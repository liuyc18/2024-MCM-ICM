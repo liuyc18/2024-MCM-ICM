{
 "cells": [
  {
   "cell_type": "code",
   "execution_count": 63,
   "metadata": {},
   "outputs": [],
   "source": [
    "import pandas as pd\n",
    "import numpy as np\n",
    "import matplotlib.pyplot as plt"
   ]
  },
  {
   "cell_type": "code",
   "execution_count": 64,
   "metadata": {},
   "outputs": [],
   "source": [
    "df_original = pd.read_csv('../data/Wimbledon_featured_matches_modified.csv')"
   ]
  },
  {
   "cell_type": "code",
   "execution_count": 65,
   "metadata": {},
   "outputs": [],
   "source": [
    "#hyper\n",
    "last_n = 5\n",
    "weights_last_n = pd.Series([0.05, 0.05, 0.1, 0.2, 0.3])"
   ]
  },
  {
   "cell_type": "code",
   "execution_count": 66,
   "metadata": {},
   "outputs": [],
   "source": [
    "def add_feature(name, df, weights, normalized=None):\n",
    "    df[name] = 0\n",
    "    for i in range(last_n, len(df)):\n",
    "        last_n_entries = df.iloc[i-last_n:i].reset_index(drop=True)\n",
    "        last_n_entries[name] = 0\n",
    "        for key in weights.keys():\n",
    "            last_n_entries[name] += last_n_entries[key] * weights[key]\n",
    "        for j in range(last_n):\n",
    "            df.at[i, name] += last_n_entries.at[j, name] * weights_last_n[j]\n",
    "        if normalized == 'sigmoid':\n",
    "            df.at[i, name] = 1 / (1 + np.exp(-df.at[i, name]))\n",
    "        elif normalized == 'tanh':\n",
    "            df.at[i, name] = np.tanh(df.at[i, name])\n",
    "        elif normalized == 'min_max':\n",
    "            df.at[i, name] = (df.at[i, name] - df[name].min()) / (df[name].max() - df[name].min())\n",
    "        elif normalized == 'z_score':\n",
    "            df.at[i, name] = (df.at[i, name] - df[name].mean()) / df[name].std()\n",
    "\n"
   ]
  },
  {
   "cell_type": "markdown",
   "metadata": {},
   "source": [
    "## critical points"
   ]
  },
  {
   "cell_type": "code",
   "execution_count": 67,
   "metadata": {},
   "outputs": [],
   "source": [
    "weights_critical_points_p1 = {\n",
    "    'p1_break_pt_won' : 10, \n",
    "    'p2_break_pt_won' : -10, \n",
    "    'p1_ace' : 3, \n",
    "    'p2_ace' : -3, \n",
    "    'p1_winner' : 2, \n",
    "    'p2_winner' : -2, \n",
    "    'winner_shot_type' : 0, \n",
    "    'p1_break_pt_missed' : -2, \n",
    "    'p2_break_pt_missed' : 2, \n",
    "    'p1_net_pt_won' : 1, \n",
    "    'p2_net_pt_won' : -1\n",
    "}"
   ]
  },
  {
   "cell_type": "code",
   "execution_count": 68,
   "metadata": {},
   "outputs": [],
   "source": [
    "add_feature('critical_points_p1', df_original, weights_critical_points_p1, 'z_score')"
   ]
  },
  {
   "cell_type": "markdown",
   "metadata": {},
   "source": [
    "## faults"
   ]
  },
  {
   "cell_type": "code",
   "execution_count": 70,
   "metadata": {},
   "outputs": [],
   "source": [
    "weights_faults_p1 = {\n",
    "    'p1_double_fault' : 1,\n",
    "    'p2_double_fault' : -1,\n",
    "    'serve_no' : 0,\n",
    "    'p1_unf_err' : 1,\n",
    "    'p2_unf_err' : -1\n",
    "}\n",
    "\n",
    "weights_faults_p2 = {\n",
    "    'p1_double_fault' : -1,\n",
    "    'p2_double_fault' : 1,\n",
    "    'serve_no' : 0,\n",
    "    'p1_unf_err' : -1,\n",
    "    'p2_unf_err' : 1\n",
    "}"
   ]
  },
  {
   "cell_type": "code",
   "execution_count": 71,
   "metadata": {},
   "outputs": [],
   "source": [
    "add_feature('faults_p1', df_original, weights_faults_p1, 'z_score')"
   ]
  },
  {
   "cell_type": "code",
   "execution_count": 72,
   "metadata": {},
   "outputs": [],
   "source": [
    "# add_feature('faults_p2', df_original, weights_faults_p2, 'sigmoid')"
   ]
  },
  {
   "cell_type": "markdown",
   "metadata": {},
   "source": [
    "## points diff p1 - p2"
   ]
  },
  {
   "cell_type": "code",
   "execution_count": 73,
   "metadata": {},
   "outputs": [],
   "source": [
    "weights_points_diff = {\n",
    "    'p1_points_won' : 1,\n",
    "    'p2_points_won' : -1\n",
    "}"
   ]
  },
  {
   "cell_type": "code",
   "execution_count": 74,
   "metadata": {},
   "outputs": [],
   "source": [
    "add_feature('points_diff', df_original, weights_points_diff, 'sigmoid')"
   ]
  },
  {
   "cell_type": "markdown",
   "metadata": {},
   "source": [
    "## fatigue p1 / p2"
   ]
  },
  {
   "cell_type": "code",
   "execution_count": 75,
   "metadata": {},
   "outputs": [
    {
     "name": "stdout",
     "output_type": "stream",
     "text": [
      "<class 'pandas.core.frame.DataFrame'>\n",
      "RangeIndex: 7284 entries, 0 to 7283\n",
      "Data columns (total 51 columns):\n",
      " #   Column              Non-Null Count  Dtype  \n",
      "---  ------              --------------  -----  \n",
      " 0   match_id            7284 non-null   int64  \n",
      " 1   player1             7284 non-null   object \n",
      " 2   player2             7284 non-null   object \n",
      " 3   elapsed_time        7284 non-null   object \n",
      " 4   set_no              7284 non-null   int64  \n",
      " 5   game_no             7284 non-null   int64  \n",
      " 6   point_no            7284 non-null   int64  \n",
      " 7   p1_sets             7284 non-null   int64  \n",
      " 8   p2_sets             7284 non-null   int64  \n",
      " 9   p1_games            7284 non-null   int64  \n",
      " 10  p2_games            7284 non-null   int64  \n",
      " 11  p1_score            7284 non-null   int64  \n",
      " 12  p2_score            7284 non-null   int64  \n",
      " 13  server              7284 non-null   int64  \n",
      " 14  serve_no            7284 non-null   int64  \n",
      " 15  point_victor        7284 non-null   int64  \n",
      " 16  p1_points_won       7284 non-null   int64  \n",
      " 17  p2_points_won       7284 non-null   int64  \n",
      " 18  game_victor         7284 non-null   int64  \n",
      " 19  set_victor          7284 non-null   int64  \n",
      " 20  p1_ace              7284 non-null   int64  \n",
      " 21  p2_ace              7284 non-null   int64  \n",
      " 22  p1_winner           7284 non-null   int64  \n",
      " 23  p2_winner           7284 non-null   int64  \n",
      " 24  winner_shot_type    7284 non-null   int64  \n",
      " 25  p1_double_fault     7284 non-null   int64  \n",
      " 26  p2_double_fault     7284 non-null   int64  \n",
      " 27  p1_unf_err          7284 non-null   int64  \n",
      " 28  p2_unf_err          7284 non-null   int64  \n",
      " 29  p1_net_pt           7284 non-null   int64  \n",
      " 30  p2_net_pt           7284 non-null   int64  \n",
      " 31  p1_net_pt_won       7284 non-null   int64  \n",
      " 32  p2_net_pt_won       7284 non-null   int64  \n",
      " 33  p1_break_pt         7284 non-null   int64  \n",
      " 34  p2_break_pt         7284 non-null   int64  \n",
      " 35  p1_break_pt_won     7284 non-null   int64  \n",
      " 36  p2_break_pt_won     7284 non-null   int64  \n",
      " 37  p1_break_pt_missed  7284 non-null   int64  \n",
      " 38  p2_break_pt_missed  7284 non-null   int64  \n",
      " 39  p1_distance_run     7284 non-null   float64\n",
      " 40  p2_distance_run     7284 non-null   float64\n",
      " 41  rally_count         7284 non-null   int64  \n",
      " 42  speed_mph           7284 non-null   float64\n",
      " 43  serve_width         7284 non-null   int64  \n",
      " 44  serve_depth         7284 non-null   int64  \n",
      " 45  return_depth        7284 non-null   int64  \n",
      " 46  set_id              7284 non-null   int64  \n",
      " 47  game_id             7284 non-null   int64  \n",
      " 48  critical_points_p1  7284 non-null   float64\n",
      " 49  faults_p1           7284 non-null   float64\n",
      " 50  points_diff         7284 non-null   float64\n",
      "dtypes: float64(6), int64(42), object(3)\n",
      "memory usage: 2.8+ MB\n"
     ]
    }
   ],
   "source": [
    "df_original.info()"
   ]
  },
  {
   "cell_type": "code",
   "execution_count": 85,
   "metadata": {},
   "outputs": [],
   "source": [
    "df_original['p1_ave_distance_run'] = df_original['p1_distance_run'] / (df_original['rally_count'] + 1)\n",
    "df_original['p2_ave_distance_run'] = df_original['p2_distance_run'] / (df_original['rally_count'] + 1)\n",
    "df_original['distance_diff_p1_p2'] = df_original['p1_ave_distance_run'] - df_original['p2_ave_distance_run'] \n",
    "df_original['distance_diff_p2_p1'] = df_original['p2_ave_distance_run'] - df_original['p1_ave_distance_run'] \n",
    "df_original['p1_distance_last_n'] = 0\n",
    "df_original['p2_distance_last_n'] = 0\n",
    "for i in range(last_n, len(df_original)):\n",
    "    for j in range(1, last_n + 1):\n",
    "        df_original.at[i,'p1_distance_last_n'] += df_original.at[i-j, 'p1_distance_run']\n",
    "        df_original.at[i,'p2_distance_last_n'] += df_original.at[i-j, 'p2_distance_run']\n",
    "\n",
    "df_original['p1_ave_distance_run'] = (df_original['p1_distance_run'] - df_original['p1_distance_run'].mean()) / df_original['p1_distance_run'].std()\n",
    "df_original['p2_ave_distance_run'] = (df_original['p2_distance_run'] - df_original['p2_distance_run'].mean()) / df_original['p2_distance_run'].std()\n",
    "# df_original['distance_diff_p1_p2'] = (df_original['distance_diff_p1_p2'] - df_original['distance_diff_p1_p2'].mean()) / df_original['distance_diff_p1_p2'].std()\n",
    "# df_original['distance_diff_p2_p1'] = (df_original['distance_diff_p2_p1'] - df_original['distance_diff_p2_p1'].mean()) / df_original['distance_diff_p2_p1'].std()\n",
    "# df_original['distance_ratio'] = (df_original['p1_ave_distance_run'] - df_original['p1_ave_distance_run'].mean()) / df_original['p1_ave_distance_run'].std()\n",
    "df_original['p1_distance_last_n'] = (df_original['p1_distance_last_n'] - df_original['p1_distance_last_n'].mean()) / df_original['p1_distance_last_n'].std()\n",
    "df_original['p2_distance_last_n'] = (df_original['p2_distance_last_n'] - df_original['p2_distance_last_n'].mean()) / df_original['p2_distance_last_n'].std()\n",
    "df_original['speed_mph'] = (df_original['speed_mph'] - df_original['speed_mph'].mean()) / df_original['speed_mph'].std()\n"
   ]
  },
  {
   "cell_type": "code",
   "execution_count": 86,
   "metadata": {},
   "outputs": [
    {
     "name": "stdout",
     "output_type": "stream",
     "text": [
      "<class 'pandas.core.frame.DataFrame'>\n",
      "RangeIndex: 7284 entries, 0 to 7283\n",
      "Data columns (total 58 columns):\n",
      " #   Column               Non-Null Count  Dtype  \n",
      "---  ------               --------------  -----  \n",
      " 0   match_id             7284 non-null   int64  \n",
      " 1   player1              7284 non-null   object \n",
      " 2   player2              7284 non-null   object \n",
      " 3   elapsed_time         7284 non-null   object \n",
      " 4   set_no               7284 non-null   int64  \n",
      " 5   game_no              7284 non-null   int64  \n",
      " 6   point_no             7284 non-null   int64  \n",
      " 7   p1_sets              7284 non-null   int64  \n",
      " 8   p2_sets              7284 non-null   int64  \n",
      " 9   p1_games             7284 non-null   int64  \n",
      " 10  p2_games             7284 non-null   int64  \n",
      " 11  p1_score             7284 non-null   int64  \n",
      " 12  p2_score             7284 non-null   int64  \n",
      " 13  server               7284 non-null   int64  \n",
      " 14  serve_no             7284 non-null   int64  \n",
      " 15  point_victor         7284 non-null   int64  \n",
      " 16  p1_points_won        7284 non-null   int64  \n",
      " 17  p2_points_won        7284 non-null   int64  \n",
      " 18  game_victor          7284 non-null   int64  \n",
      " 19  set_victor           7284 non-null   int64  \n",
      " 20  p1_ace               7284 non-null   int64  \n",
      " 21  p2_ace               7284 non-null   int64  \n",
      " 22  p1_winner            7284 non-null   int64  \n",
      " 23  p2_winner            7284 non-null   int64  \n",
      " 24  winner_shot_type     7284 non-null   int64  \n",
      " 25  p1_double_fault      7284 non-null   int64  \n",
      " 26  p2_double_fault      7284 non-null   int64  \n",
      " 27  p1_unf_err           7284 non-null   int64  \n",
      " 28  p2_unf_err           7284 non-null   int64  \n",
      " 29  p1_net_pt            7284 non-null   int64  \n",
      " 30  p2_net_pt            7284 non-null   int64  \n",
      " 31  p1_net_pt_won        7284 non-null   int64  \n",
      " 32  p2_net_pt_won        7284 non-null   int64  \n",
      " 33  p1_break_pt          7284 non-null   int64  \n",
      " 34  p2_break_pt          7284 non-null   int64  \n",
      " 35  p1_break_pt_won      7284 non-null   int64  \n",
      " 36  p2_break_pt_won      7284 non-null   int64  \n",
      " 37  p1_break_pt_missed   7284 non-null   int64  \n",
      " 38  p2_break_pt_missed   7284 non-null   int64  \n",
      " 39  p1_distance_run      7284 non-null   float64\n",
      " 40  p2_distance_run      7284 non-null   float64\n",
      " 41  rally_count          7284 non-null   int64  \n",
      " 42  speed_mph            7284 non-null   float64\n",
      " 43  serve_width          7284 non-null   int64  \n",
      " 44  serve_depth          7284 non-null   int64  \n",
      " 45  return_depth         7284 non-null   int64  \n",
      " 46  set_id               7284 non-null   int64  \n",
      " 47  game_id              7284 non-null   int64  \n",
      " 48  critical_points_p1   7284 non-null   float64\n",
      " 49  faults_p1            7284 non-null   float64\n",
      " 50  points_diff          7284 non-null   float64\n",
      " 51  p1_ave_distance_run  7284 non-null   float64\n",
      " 52  p2_ave_distance_run  7284 non-null   float64\n",
      " 53  distance_diff_p1_p2  7284 non-null   float64\n",
      " 54  distance_diff_p2_p1  7284 non-null   float64\n",
      " 55  p1_distance_last_n   7284 non-null   float64\n",
      " 56  p2_distance_last_n   7284 non-null   float64\n",
      " 57  fatigue_p1           5692 non-null   float64\n",
      "dtypes: float64(13), int64(42), object(3)\n",
      "memory usage: 3.2+ MB\n"
     ]
    }
   ],
   "source": [
    "df_original.info()"
   ]
  },
  {
   "cell_type": "code",
   "execution_count": 79,
   "metadata": {},
   "outputs": [
    {
     "name": "stdout",
     "output_type": "stream",
     "text": [
      "<class 'pandas.core.series.Series'>\n",
      "RangeIndex: 7284 entries, 0 to 7283\n",
      "Series name: p1_ave_distance_run\n",
      "Non-Null Count  Dtype  \n",
      "--------------  -----  \n",
      "7284 non-null   float64\n",
      "dtypes: float64(1)\n",
      "memory usage: 57.0 KB\n",
      "<class 'pandas.core.series.Series'>\n",
      "RangeIndex: 7284 entries, 0 to 7283\n",
      "Series name: p2_ave_distance_run\n",
      "Non-Null Count  Dtype  \n",
      "--------------  -----  \n",
      "7284 non-null   float64\n",
      "dtypes: float64(1)\n",
      "memory usage: 57.0 KB\n",
      "<class 'pandas.core.series.Series'>\n",
      "RangeIndex: 7284 entries, 0 to 7283\n",
      "Series name: distance_diff_p1_p2\n",
      "Non-Null Count  Dtype  \n",
      "--------------  -----  \n",
      "6553 non-null   float64\n",
      "dtypes: float64(1)\n",
      "memory usage: 57.0 KB\n",
      "<class 'pandas.core.series.Series'>\n",
      "RangeIndex: 7284 entries, 0 to 7283\n",
      "Series name: distance_diff_p2_p1\n",
      "Non-Null Count  Dtype  \n",
      "--------------  -----  \n",
      "6553 non-null   float64\n",
      "dtypes: float64(1)\n",
      "memory usage: 57.0 KB\n",
      "<class 'pandas.core.series.Series'>\n",
      "RangeIndex: 7284 entries, 0 to 7283\n",
      "Series name: p1_distance_last_n\n",
      "Non-Null Count  Dtype  \n",
      "--------------  -----  \n",
      "7284 non-null   float64\n",
      "dtypes: float64(1)\n",
      "memory usage: 57.0 KB\n",
      "<class 'pandas.core.series.Series'>\n",
      "RangeIndex: 7284 entries, 0 to 7283\n",
      "Series name: p2_distance_last_n\n",
      "Non-Null Count  Dtype  \n",
      "--------------  -----  \n",
      "7284 non-null   float64\n",
      "dtypes: float64(1)\n",
      "memory usage: 57.0 KB\n",
      "<class 'pandas.core.series.Series'>\n",
      "RangeIndex: 7284 entries, 0 to 7283\n",
      "Series name: speed_mph\n",
      "Non-Null Count  Dtype  \n",
      "--------------  -----  \n",
      "7284 non-null   float64\n",
      "dtypes: float64(1)\n",
      "memory usage: 57.0 KB\n"
     ]
    },
    {
     "data": {
      "text/plain": [
       "(None, None, None, None, None, None, None)"
      ]
     },
     "execution_count": 79,
     "metadata": {},
     "output_type": "execute_result"
    }
   ],
   "source": [
    "df_original['p1_ave_distance_run'].info(), df_original['p2_ave_distance_run'].info(), df_original['distance_diff_p1_p2'].info(), df_original['distance_diff_p2_p1'].info(), df_original['p1_distance_last_n'].info(), df_original['p2_distance_last_n'].info(), df_original['speed_mph'].info()"
   ]
  },
  {
   "cell_type": "code",
   "execution_count": 80,
   "metadata": {},
   "outputs": [],
   "source": [
    "weights_fatigue_p1 = {\n",
    "    'p1_ave_distance_run' : 1,\n",
    "    'p2_ave_distance_run' : -1,\n",
    "    'distance_diff_p1_p2' : 1,\n",
    "    'p1_distance_last_n' : 1,\n",
    "    'p2_distance_last_n' : -1,\n",
    "    # 'speed_mph' : 1,\n",
    "}\n",
    "\n",
    "weights_fatigue_p2 = {\n",
    "    'p1_ave_distance_run' : -1,\n",
    "    'p2_ave_distance_run' : 1,\n",
    "    'distance_diff_p2_p1' : 1,\n",
    "    'p1_distance_last_n' : -1,\n",
    "    'p2_distance_last_n' : 1,\n",
    "    # 'speed_mph' : 1,\n",
    "}"
   ]
  },
  {
   "cell_type": "code",
   "execution_count": 87,
   "metadata": {},
   "outputs": [],
   "source": [
    "add_feature('fatigue_p1', df_original, weights_fatigue_p1, 'z_score')"
   ]
  },
  {
   "cell_type": "code",
   "execution_count": 88,
   "metadata": {},
   "outputs": [
    {
     "name": "stdout",
     "output_type": "stream",
     "text": [
      "<class 'pandas.core.series.Series'>\n",
      "RangeIndex: 7284 entries, 0 to 7283\n",
      "Series name: fatigue_p1\n",
      "Non-Null Count  Dtype  \n",
      "--------------  -----  \n",
      "7284 non-null   float64\n",
      "dtypes: float64(1)\n",
      "memory usage: 57.0 KB\n"
     ]
    }
   ],
   "source": [
    "df_original['fatigue_p1'].info()"
   ]
  },
  {
   "cell_type": "code",
   "execution_count": 83,
   "metadata": {},
   "outputs": [],
   "source": [
    "# add_feature('fatigue_p2', df_original, weights_fatigue_p2, 'sigmoid')"
   ]
  },
  {
   "cell_type": "code",
   "execution_count": null,
   "metadata": {},
   "outputs": [],
   "source": []
  },
  {
   "cell_type": "code",
   "execution_count": 89,
   "metadata": {},
   "outputs": [],
   "source": [
    "df_original.to_csv('../data/Wimbledon_featured_matches_modified_add_features.csv', index=False)"
   ]
  },
  {
   "cell_type": "code",
   "execution_count": null,
   "metadata": {},
   "outputs": [],
   "source": []
  }
 ],
 "metadata": {
  "kernelspec": {
   "display_name": "pytorch",
   "language": "python",
   "name": "python3"
  },
  "language_info": {
   "codemirror_mode": {
    "name": "ipython",
    "version": 3
   },
   "file_extension": ".py",
   "mimetype": "text/x-python",
   "name": "python",
   "nbconvert_exporter": "python",
   "pygments_lexer": "ipython3",
   "version": "3.9.16"
  }
 },
 "nbformat": 4,
 "nbformat_minor": 2
}

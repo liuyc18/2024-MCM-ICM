{
 "cells": [
  {
   "cell_type": "markdown",
   "metadata": {},
   "source": [
    "# For Task 2.2 Only"
   ]
  },
  {
   "cell_type": "code",
   "execution_count": 1,
   "metadata": {},
   "outputs": [],
   "source": [
    "import pandas as pd\n",
    "import numpy as np\n",
    "import matplotlib.pyplot as plt\n",
    "from scipy.stats import pearsonr, spearmanr\n",
    "from sklearn.linear_model import LinearRegression"
   ]
  },
  {
   "cell_type": "code",
   "execution_count": 2,
   "metadata": {},
   "outputs": [],
   "source": [
    "def calculateMetrics(y_pred, y_test):\n",
    "    rmse = np.sqrt(np.mean((y_pred - y_test)*(y_pred - y_test)))\n",
    "    mae = np.mean(np.abs(y_pred - y_test))\n",
    "    mape = np.mean(np.abs(y_pred - y_test) / (y_test + 1e-0))\n",
    "    r2 = (np.corrcoef(y_pred, y_test)[0,1])**2\n",
    "    # r2 = r2_score(y_test, y_pred)\n",
    "\n",
    "    print(f'RMSE: {rmse}')\n",
    "    print(f'MAE: {mae}')\n",
    "    print(f'MAPE: {mape}')\n",
    "    print(f'R2: {r2}')\n",
    "\n",
    "    # Calculate Pearson correlation coefficient\n",
    "    pearson_corr, _ = pearsonr(y_test.flatten(), y_pred.flatten())\n",
    "    print(f\"Pearson correlation coefficient: {pearson_corr}\")\n",
    "\n",
    "    # Calculate Spearman correlation coefficient\n",
    "    spearman_corr, _ = spearmanr(y_test.flatten(), y_pred.flatten())\n",
    "    print(f\"Spearman correlation coefficient: {spearman_corr}\")\n",
    "\n",
    "    # return rmse, mae, mape, r2, pearson_corr, spearman_corr"
   ]
  },
  {
   "cell_type": "code",
   "execution_count": 3,
   "metadata": {},
   "outputs": [],
   "source": [
    "# # List to store the dataframes\n",
    "# dfs = []\n",
    "\n",
    "# # Loop through the range of files\n",
    "# for i in range(1, 32):\n",
    "#     # Read each CSV file\n",
    "#     filepath = f\"../data/Wimbledon_featured_matches_modified_add_features_with_momentum_{i}.csv\"\n",
    "#     df = pd.read_csv(filepath)\n",
    "#     df[\"match_id\"] = i\n",
    "    \n",
    "#     # Append the dataframe to the list\n",
    "#     dfs.append(df)\n",
    "\n",
    "# # Concatenate the dataframes\n",
    "# concatenated_df = pd.concat(dfs, ignore_index=True)\n",
    "# concatenated_df.to_csv(\"../data/Wimbledon_featured_matches_modified_add_features_with_momentum_all.csv\")"
   ]
  },
  {
   "cell_type": "code",
   "execution_count": 4,
   "metadata": {},
   "outputs": [],
   "source": [
    "df_original = pd.read_csv(\"../data/Wimbledon_featured_matches_modified_add_features_with_momentum_all.csv\")"
   ]
  },
  {
   "cell_type": "code",
   "execution_count": 5,
   "metadata": {},
   "outputs": [],
   "source": [
    "def get_momentum_list(level):\n",
    "    this_level_momentum = []\n",
    "    momentum_list = []\n",
    "    winner = []\n",
    "    for i, row in df_original.iterrows():\n",
    "        this_level_momentum.append(row[\"momentum_normalized_average\"])\n",
    "        if row[level+\"_victor\"] != 0:\n",
    "            winner.append(row[level+\"_victor\"])\n",
    "            momentum_list.append(this_level_momentum)\n",
    "            this_level_momentum = []\n",
    "    return momentum_list, np.array(winner).reshape(-1, 1)"
   ]
  },
  {
   "cell_type": "code",
   "execution_count": 6,
   "metadata": {},
   "outputs": [],
   "source": [
    "momentum_set_list, set_winner = get_momentum_list(\"set\")\n",
    "momentum_game_list, game_winner = get_momentum_list(\"game\")"
   ]
  },
  {
   "cell_type": "code",
   "execution_count": 8,
   "metadata": {},
   "outputs": [
    {
     "name": "stdout",
     "output_type": "stream",
     "text": [
      "63 92\n"
     ]
    }
   ],
   "source": [
    "print(len(momentum_set_list[0]), len(momentum_set_list[1]))"
   ]
  },
  {
   "cell_type": "markdown",
   "metadata": {},
   "source": [
    "## average"
   ]
  },
  {
   "cell_type": "code",
   "execution_count": 9,
   "metadata": {},
   "outputs": [],
   "source": [
    "momentum_set_average = np.array([np.mean(x) for x in momentum_set_list]).reshape(-1, 1)\n",
    "momentum_game_average = np.array([np.mean(x) for x in momentum_game_list]).reshape(-1, 1)\n"
   ]
  },
  {
   "cell_type": "code",
   "execution_count": 10,
   "metadata": {},
   "outputs": [
    {
     "data": {
      "text/plain": [
       "((117, 1), (1188, 1), (117, 1), (1188, 1))"
      ]
     },
     "execution_count": 10,
     "metadata": {},
     "output_type": "execute_result"
    }
   ],
   "source": [
    "momentum_set_average.shape, momentum_game_average.shape, set_winner.shape, game_winner.shape"
   ]
  },
  {
   "cell_type": "code",
   "execution_count": 11,
   "metadata": {},
   "outputs": [],
   "source": [
    "dict_momentum_average = {\n",
    "    \"set\": momentum_set_average,\n",
    "    \"game\": momentum_game_average,\n",
    "}\n",
    "dict_winner = {\n",
    "    \"set\": set_winner,\n",
    "    \"game\": game_winner,\n",
    "}"
   ]
  },
  {
   "cell_type": "code",
   "execution_count": 14,
   "metadata": {},
   "outputs": [],
   "source": [
    "def plot_momentum_average_LR(level):\n",
    "    # Create a linear regression model\n",
    "    model = LinearRegression()\n",
    "    X = dict_momentum_average[level]\n",
    "    y = dict_winner[level]\n",
    "    print(X.shape, y.shape)\n",
    "    # Fit the model to the data\n",
    "    model.fit(X, y)\n",
    "\n",
    "    # Get the coefficients and intercept of the linear regression model\n",
    "    slope = model.coef_[0]\n",
    "    intercept = model.intercept_\n",
    "\n",
    "    # Print the coefficients and intercept\n",
    "    print(\"Slope:\", slope)\n",
    "    print(\"Intercept:\", intercept)\n",
    "\n",
    "    # plot the LR model\n",
    "    plt.scatter(X, y)\n",
    "    plt.plot(X, model.predict(X), color='red')\n",
    "    plt.xlabel(\"Average momentum\")\n",
    "    plt.ylabel(\"Winner\")\n",
    "    plt.title(f\"{level} momentum average vs winner\")\n",
    "    plt.show()\n",
    "\n",
    "    calculateMetrics(model.predict(X), y)\n"
   ]
  },
  {
   "cell_type": "code",
   "execution_count": 15,
   "metadata": {},
   "outputs": [
    {
     "name": "stdout",
     "output_type": "stream",
     "text": [
      "(117, 1) (117, 1)\n",
      "Slope: [-2.31225239]\n",
      "Intercept: [2.76886827]\n"
     ]
    },
    {
     "data": {
      "image/png": "[encoded data removed]",
      "text/plain": [
       "<Figure size 640x480 with 1 Axes>"
      ]
     },
     "metadata": {},
     "output_type": "display_data"
    },
    {
     "name": "stdout",
     "output_type": "stream",
     "text": [
      "RMSE: 0.4723873193214017\n",
      "MAE: 0.4462995589113199\n",
      "MAPE: 0.18595814954638326\n",
      "R2: nan\n",
      "Pearson correlation coefficient: 0.3153421084334586\n",
      "Spearman correlation coefficient: 0.29791359273996626\n"
     ]
    },
    {
     "name": "stderr",
     "output_type": "stream",
     "text": [
      "/Users/yichao/opt/anaconda3/envs/pytorch/lib/python3.9/site-packages/numpy/lib/function_base.py:2845: RuntimeWarning: Degrees of freedom <= 0 for slice\n",
      "  c = cov(x, y, rowvar, dtype=dtype)\n",
      "/Users/yichao/opt/anaconda3/envs/pytorch/lib/python3.9/site-packages/numpy/lib/function_base.py:2704: RuntimeWarning: divide by zero encountered in divide\n",
      "  c *= np.true_divide(1, fact)\n",
      "/Users/yichao/opt/anaconda3/envs/pytorch/lib/python3.9/site-packages/numpy/lib/function_base.py:2704: RuntimeWarning: invalid value encountered in multiply\n",
      "  c *= np.true_divide(1, fact)\n"
     ]
    }
   ],
   "source": [
    "plot_momentum_average_LR(\"set\")"
   ]
  },
  {
   "cell_type": "code",
   "execution_count": 16,
   "metadata": {},
   "outputs": [
    {
     "name": "stdout",
     "output_type": "stream",
     "text": [
      "(1188, 1) (1188, 1)\n",
      "Slope: [-1.01739856]\n",
      "Intercept: [2.0627236]\n"
     ]
    },
    {
     "data": {
      "image/png": "[encoded data removed]",
      "text/plain": [
       "<Figure size 640x480 with 1 Axes>"
      ]
     },
     "metadata": {},
     "output_type": "display_data"
    },
    {
     "name": "stdout",
     "output_type": "stream",
     "text": [
      "RMSE: 0.48733309891113147\n",
      "MAE: 0.47498709858865334\n",
      "MAPE: 0.19791129107860556\n",
      "R2: nan\n",
      "Pearson correlation coefficient: 0.22072809791955889\n",
      "Spearman correlation coefficient: 0.22352985709696357\n"
     ]
    },
    {
     "name": "stderr",
     "output_type": "stream",
     "text": [
      "/Users/yichao/opt/anaconda3/envs/pytorch/lib/python3.9/site-packages/numpy/lib/function_base.py:2845: RuntimeWarning: Degrees of freedom <= 0 for slice\n",
      "  c = cov(x, y, rowvar, dtype=dtype)\n",
      "/Users/yichao/opt/anaconda3/envs/pytorch/lib/python3.9/site-packages/numpy/lib/function_base.py:2704: RuntimeWarning: divide by zero encountered in divide\n",
      "  c *= np.true_divide(1, fact)\n",
      "/Users/yichao/opt/anaconda3/envs/pytorch/lib/python3.9/site-packages/numpy/lib/function_base.py:2704: RuntimeWarning: invalid value encountered in multiply\n",
      "  c *= np.true_divide(1, fact)\n"
     ]
    }
   ],
   "source": [
    "plot_momentum_average_LR(\"game\")"
   ]
  },
  {
   "cell_type": "markdown",
   "metadata": {},
   "source": [
    "## hist"
   ]
  },
  {
   "cell_type": "code",
   "execution_count": 21,
   "metadata": {},
   "outputs": [],
   "source": [
    "def transform_to_histogram(momentum_list, bins_num):\n",
    "    hist_list = []\n",
    "    for sublist in momentum_list:\n",
    "        hist, bin_edges = np.histogram(sublist, bins=bins_num)\n",
    "        hist_list.append(hist)\n",
    "    return np.array(hist_list)"
   ]
  },
  {
   "cell_type": "code",
   "execution_count": 22,
   "metadata": {},
   "outputs": [],
   "source": [
    "momentum_set_hist = transform_to_histogram(momentum_set_list, 10)\n",
    "momentum_game_hist = transform_to_histogram(momentum_game_list, 10)"
   ]
  },
  {
   "cell_type": "code",
   "execution_count": 23,
   "metadata": {},
   "outputs": [],
   "source": [
    "dict_momentum_hist = {\n",
    "    \"set\": momentum_set_hist,\n",
    "    \"game\": momentum_game_hist,\n",
    "}"
   ]
  },
  {
   "cell_type": "code",
   "execution_count": 26,
   "metadata": {},
   "outputs": [],
   "source": [
    "def plot_momentum_hist_LR(level):\n",
    "    # Create a linear regression model\n",
    "    model = LinearRegression()\n",
    "    X = dict_momentum_hist[level]\n",
    "    y = dict_winner[level]\n",
    "    print(X.shape, y.shape)\n",
    "    # Fit the model to the data\n",
    "    model.fit(X, y)\n",
    "\n",
    "    # Get the coefficients and intercept of the linear regression model\n",
    "    slope = model.coef_[0]\n",
    "    intercept = model.intercept_\n",
    "\n",
    "    # Print the coefficients and intercept\n",
    "    print(\"Slope:\", slope)\n",
    "    print(\"Intercept:\", intercept)\n",
    "\n",
    "    # # plot the LR model\n",
    "    # plt.scatter(X, y)\n",
    "    # plt.plot(X, model.predict(X), color='red')\n",
    "    # plt.xlabel(\"Histogram\")\n",
    "    # plt.ylabel(\"Winner\")\n",
    "    # plt.title(f\"{level} momentum histogram vs winner\")\n",
    "    # plt.show()\n",
    "\n",
    "    calculateMetrics(model.predict(X), y)"
   ]
  },
  {
   "cell_type": "code",
   "execution_count": 27,
   "metadata": {},
   "outputs": [
    {
     "name": "stdout",
     "output_type": "stream",
     "text": [
      "(117, 10) (117, 1)\n",
      "Slope: [ 0.00798678  0.00238601 -0.01469605  0.00711465  0.00822919  0.00849775\n",
      " -0.0061144  -0.00612694  0.00218654  0.00550196]\n",
      "Intercept: [1.33451481]\n",
      "RMSE: 0.4880792720555291\n",
      "MAE: 0.4764427516205104\n",
      "MAPE: 0.19851781317521267\n",
      "R2: nan\n",
      "Pearson correlation coefficient: 0.19651112789964192\n",
      "Spearman correlation coefficient: 0.17590119980892205\n"
     ]
    },
    {
     "name": "stderr",
     "output_type": "stream",
     "text": [
      "/Users/yichao/opt/anaconda3/envs/pytorch/lib/python3.9/site-packages/numpy/lib/function_base.py:2845: RuntimeWarning: Degrees of freedom <= 0 for slice\n",
      "  c = cov(x, y, rowvar, dtype=dtype)\n",
      "/Users/yichao/opt/anaconda3/envs/pytorch/lib/python3.9/site-packages/numpy/lib/function_base.py:2704: RuntimeWarning: divide by zero encountered in divide\n",
      "  c *= np.true_divide(1, fact)\n",
      "/Users/yichao/opt/anaconda3/envs/pytorch/lib/python3.9/site-packages/numpy/lib/function_base.py:2704: RuntimeWarning: invalid value encountered in multiply\n",
      "  c *= np.true_divide(1, fact)\n"
     ]
    }
   ],
   "source": [
    "plot_momentum_hist_LR(\"set\")"
   ]
  },
  {
   "cell_type": "code",
   "execution_count": 28,
   "metadata": {},
   "outputs": [
    {
     "name": "stdout",
     "output_type": "stream",
     "text": [
      "(1188, 10) (1188, 1)\n",
      "Slope: [ 0.0323187   0.0474423   0.03940698  0.01469524  0.01519017 -0.00801271\n",
      "  0.01011015  0.00725829 -0.03325872 -0.04334874]\n",
      "Intercept: [1.45922799]\n",
      "RMSE: 0.49423817672680936\n",
      "MAE: 0.48854275066848185\n",
      "MAPE: 0.20355947944520075\n",
      "R2: nan\n",
      "Pearson correlation coefficient: 0.14687528127330368\n",
      "Spearman correlation coefficient: 0.15375047266289688\n"
     ]
    },
    {
     "name": "stderr",
     "output_type": "stream",
     "text": [
      "/Users/yichao/opt/anaconda3/envs/pytorch/lib/python3.9/site-packages/numpy/lib/function_base.py:2845: RuntimeWarning: Degrees of freedom <= 0 for slice\n",
      "  c = cov(x, y, rowvar, dtype=dtype)\n",
      "/Users/yichao/opt/anaconda3/envs/pytorch/lib/python3.9/site-packages/numpy/lib/function_base.py:2704: RuntimeWarning: divide by zero encountered in divide\n",
      "  c *= np.true_divide(1, fact)\n",
      "/Users/yichao/opt/anaconda3/envs/pytorch/lib/python3.9/site-packages/numpy/lib/function_base.py:2704: RuntimeWarning: invalid value encountered in multiply\n",
      "  c *= np.true_divide(1, fact)\n"
     ]
    }
   ],
   "source": [
    "plot_momentum_hist_LR(\"game\")"
   ]
  }
 ],
 "metadata": {
  "kernelspec": {
   "display_name": "pytorch",
   "language": "python",
   "name": "python3"
  },
  "language_info": {
   "codemirror_mode": {
    "name": "ipython",
    "version": 3
   },
   "file_extension": ".py",
   "mimetype": "text/x-python",
   "name": "python",
   "nbconvert_exporter": "python",
   "pygments_lexer": "ipython3",
   "version": "3.9.16"
  }
 },
 "nbformat": 4,
 "nbformat_minor": 2
}
